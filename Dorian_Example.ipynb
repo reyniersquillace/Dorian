{
 "cells": [
  {
   "cell_type": "code",
   "execution_count": 11,
   "metadata": {},
   "outputs": [],
   "source": [
    "import numpy as np\n",
    "import astropy.units as u\n",
    "import astropy.constants as const\n",
    "import Dorian\n",
    "import matplotlib as mpl\n",
    "from matplotlib import pyplot as plt\n",
    "\n",
    "new_rcParams = {\n",
    "    'figure.dpi': 150\n",
    "}\n",
    "mpl.rcParams.update(new_rcParams)"
   ]
  },
  {
   "attachments": {},
   "cell_type": "markdown",
   "metadata": {},
   "source": [
    "Set the parameters you wish to vary. For my work on L43E, these are the filliang fraction, the total optical depth, and the integrated intensity of $^{15}\\text{NH}_2\\text{D}$."
   ]
  },
  {
   "cell_type": "code",
   "execution_count": 2,
   "metadata": {},
   "outputs": [],
   "source": [
    "mu_f = 0.435\n",
    "mu_tau = 3.54\n",
    "sig_f = 0.12\n",
    "sig_tau = 5.4e-2\n",
    "mu_I15 = 0.005868\n",
    "sig_I15 = 0.001292\n",
    "\n",
    "#pick number of iterations\n",
    "n = 1000\n",
    "\n",
    "#create Gaussian distributions\n",
    "dist = np.random.normal((mu_f, mu_tau, mu_I15), (sig_f, sig_tau, sig_I15), (n, 3))"
   ]
  },
  {
   "attachments": {},
   "cell_type": "markdown",
   "metadata": {},
   "source": [
    "Next we create the Molecule and objects, which will stay constant throughout the Monte Carlo draw."
   ]
  },
  {
   "cell_type": "code",
   "execution_count": 3,
   "metadata": {},
   "outputs": [],
   "source": [
    "mol15 = Dorian.Molecule('15NH2D_lvls.csv', ortho_g = 3)\n",
    "mol14 = Dorian.Molecule('onh2d_lvls.csv', ortho_g = 7, relative_intensity = 14/81)"
   ]
  },
  {
   "attachments": {},
   "cell_type": "markdown",
   "metadata": {},
   "source": [
    "Then we call Dorian and loop over n, drawing random values and calculating the fractionation ratio at each one."
   ]
  },
  {
   "cell_type": "code",
   "execution_count": 4,
   "metadata": {},
   "outputs": [
    {
     "name": "stdout",
     "output_type": "stream",
     "text": [
      "0\n"
     ]
    }
   ],
   "source": [
    "output = np.zeros(n)\n",
    "i = 0\n",
    "for f, tau, I15 in dist:\n",
    "\n",
    "    obs14 = Dorian.Observation(85.926278e9*u.Hz, 1.507*u.K, 0.76964*u.km/u.s, 'calculate', \n",
    "                           filename = 'onh2d.txt', vlsr = 0.75*u.km/u.s, dv = 0.325*u.km/u.s,\n",
    "                           Eu_k = 20.0894*u.K, tau_main = tau, eff_MB = 0.92, fill_frac = f, \n",
    "                           Einstein_A = 5.23e-6/u.s, Int_R = 14/81)\n",
    "    \n",
    "    Tex14, n14 = Dorian.ColumnDensity(mol14, obs14)\n",
    "\n",
    "    #the limits of the uniform random draw are derived from RADEX simulations particular to L43E\n",
    "    #see my notebook RADEX_Example\n",
    "    \n",
    "    Tex15 = np.random.uniform(0.7*Tex14.value, 0.8*Tex14.value)\n",
    "    \n",
    "    obs15 = Dorian.Observation(nu = 86.4199959e9*u.Hz, TA_star = I15*u.K, Tex = Tex15*u.K, \n",
    "                               Eu_k = 20.6247*u.K,\n",
    "                           dipole = 1.463e-18, S = 1.5, eff_MB = 0.92, fill_frac = f)\n",
    "\n",
    "    n15 = Dorian.ColumnDensity(mol15, obs15, opt_thin = True)\n",
    "\n",
    "    ratio = n14.value/n15.value\n",
    "\n",
    "    output[i] = ratio\n",
    "\n",
    "    #give a little update!\n",
    "    if i % 1000 == 0:\n",
    "        print(i)\n",
    "    i += 1"
   ]
  },
  {
   "attachments": {},
   "cell_type": "markdown",
   "metadata": {},
   "source": [
    "Let's figure out our percentiles..."
   ]
  },
  {
   "cell_type": "code",
   "execution_count": 5,
   "metadata": {},
   "outputs": [],
   "source": [
    "sigma = np.std(output)\n",
    "mu = np.median(output)\n",
    "sorted = np.sort(output)\n",
    "lower_1sig = sorted[int(np.round(0.165*n, 0))]\n",
    "upper_1sig = sorted[int(np.round(0.835*n, 0))]\n",
    "lower_2sig = sorted[int(np.round(0.025*n, 0))]\n",
    "upper_2sig = sorted[int(np.round(0.975*n, 0))]"
   ]
  },
  {
   "attachments": {},
   "cell_type": "markdown",
   "metadata": {},
   "source": [
    "...and plot our results!"
   ]
  },
  {
   "cell_type": "code",
   "execution_count": 13,
   "metadata": {},
   "outputs": [
    {
     "data": {
      "image/png": "[encoded data removed]",
      "text/plain": [
       "<Figure size 900x600 with 1 Axes>"
      ]
     },
     "metadata": {
      "needs_background": "light"
     },
     "output_type": "display_data"
    }
   ],
   "source": [
    "count, bins, ignored = plt.hist(output, int(n/25), density=True, color = 'cornflowerblue')\n",
    "plt.vlines(x = np.median(output), ymin = 0, ymax = 0.005, color = 'rebeccapurple', linestyles = 'dashdot', \n",
    "           label = 'Median')\n",
    "plt.vlines(lower_1sig, ymin = 0, ymax = 0.005, color = 'hotpink', linestyles = 'dashdot', \n",
    "           label = r'$\\sigma$')\n",
    "plt.vlines(upper_1sig, ymin = 0, ymax = 0.005, color = 'hotpink', linestyles = 'dashdot')\n",
    "plt.vlines(lower_2sig, ymin = 0, ymax = 0.005, color = 'green', linestyles = 'dashdot', \n",
    "           label = r'$2\\sigma$')\n",
    "plt.vlines(upper_2sig, ymin = 0, ymax = 0.005, color = 'green', linestyles = 'dashdot')\n",
    "plt.legend()\n",
    "plt.text(lower_2sig-50, 0.0051, str(int(np.round(lower_2sig, 0))), fontsize = 'xx-small')\n",
    "plt.text(lower_1sig-40, 0.0051, str(int(np.round(lower_1sig, 0))), fontsize = 'xx-small')\n",
    "plt.text(mu-30, 0.0051, str(int(np.round(mu, 0))), fontsize = 'xx-small')\n",
    "plt.text(upper_1sig-30, 0.0051, str(int(np.round(upper_1sig, 0))), fontsize = 'xx-small')\n",
    "plt.text(upper_2sig-30, 0.0051, str(int(np.round(upper_2sig, 0))), fontsize = 'xx-small')\n",
    "plt.title('Nitrogen Fractionation Ratio of L43E', family = 'serif')\n",
    "plt.xlabel(r'$^{14}$NH$_2$D:$^{15}$NH$_2$D', family = 'serif')\n",
    "plt.yticks([])\n",
    "plt.show()"
   ]
  }
 ],
 "metadata": {
  "kernelspec": {
   "display_name": "Python 3",
   "language": "python",
   "name": "python3"
  },
  "language_info": {
   "codemirror_mode": {
    "name": "ipython",
    "version": 3
   },
   "file_extension": ".py",
   "mimetype": "text/x-python",
   "name": "python",
   "nbconvert_exporter": "python",
   "pygments_lexer": "ipython3",
   "version": "3.8.10"
  },
  "orig_nbformat": 4
 },
 "nbformat": 4,
 "nbformat_minor": 2
}
